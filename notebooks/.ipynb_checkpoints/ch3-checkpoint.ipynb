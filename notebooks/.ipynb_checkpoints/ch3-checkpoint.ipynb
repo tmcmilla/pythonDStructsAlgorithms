{
 "cells": [
  {
   "cell_type": "code",
   "execution_count": 1,
   "metadata": {
    "collapsed": true
   },
   "outputs": [],
   "source": [
    "def factorial(n):\n",
    "    # test for a base case\n",
    "    if n == 0:\n",
    "        return 1\n",
    "# make a calculation and a recursive call\n",
    "    f = n*factorial(n-1)\n",
    "    print(f)\n",
    "    return(f)"
   ]
  },
  {
   "cell_type": "code",
   "execution_count": 2,
   "metadata": {},
   "outputs": [
    {
     "name": "stdout",
     "output_type": "stream",
     "text": [
      "1\n",
      "2\n",
      "6\n",
      "24\n"
     ]
    },
    {
     "data": {
      "text/plain": [
       "24"
      ]
     },
     "execution_count": 2,
     "metadata": {},
     "output_type": "execute_result"
    }
   ],
   "source": [
    "factorial(4)"
   ]
  },
  {
   "cell_type": "code",
   "execution_count": 3,
   "metadata": {
    "collapsed": true
   },
   "outputs": [],
   "source": [
    "def bitStr(n,s):\n",
    "    if n == 1: return s\n",
    "    return [digit + bits for digit in bitStr(1,s) for bits in bitStr(n-1,s)]\n"
   ]
  },
  {
   "cell_type": "code",
   "execution_count": 4,
   "metadata": {},
   "outputs": [
    {
     "name": "stdout",
     "output_type": "stream",
     "text": [
      "['aaa', 'aab', 'aac', 'aba', 'abb', 'abc', 'aca', 'acb', 'acc', 'baa', 'bab', 'bac', 'bba', 'bbb', 'bbc', 'bca', 'bcb', 'bcc', 'caa', 'cab', 'cac', 'cba', 'cbb', 'cbc', 'cca', 'ccb', 'ccc']\n"
     ]
    }
   ],
   "source": [
    "print (bitStr(3,'abc'))"
   ]
  },
  {
   "cell_type": "code",
   "execution_count": 16,
   "metadata": {
    "collapsed": true
   },
   "outputs": [],
   "source": [
    "from math import log10\n",
    "import math\n"
   ]
  },
  {
   "cell_type": "code",
   "execution_count": 17,
   "metadata": {
    "collapsed": true
   },
   "outputs": [],
   "source": [
    "def karatsuba(x,y):\n",
    "    # the base case for recursion\n",
    "    if x < 10 or y < 1:\n",
    "        return x * y\n",
    "    \n",
    "    # sets n, the number of digits in the highest input number\n",
    "    n = max(int(log10(x)+1), int(log10(y) +1))\n",
    "    \n",
    "    # round up n/2\n",
    "    n_2 = int(math.ceil(n / 2.0))\n",
    "    # adds 1 if nis uneven\n",
    "    n  = n if n % 2 == 0 else n+1\n",
    "    \n",
    "    #splits the input numbers\n",
    "    a, b = divmod(x, 10**n_2)\n",
    "    c, d = divmod(y, 10**n_2)\n",
    "    \n",
    "    # applies the three recursive steps\n",
    "    ac = karatsuba(a,c)\n",
    "    bd = karatsuba(b,d)\n",
    "    ad_bc = karatsuba((a+b), (c+d)) - ac - bd\n",
    "    \n",
    "    # performs the multiplication\n",
    "    return (((10**n)*ac) + bd + ((10**n_2)*(ad_bc)))"
   ]
  },
  {
   "cell_type": "code",
   "execution_count": 20,
   "metadata": {
    "collapsed": true
   },
   "outputs": [],
   "source": [
    "import random\n",
    "def test():\n",
    "    for i in range(1000):\n",
    "        x = random.randint(1, 10**5)\n",
    "        y = random.randint(1, 10**5)\n",
    "        expected = x * y\n",
    "        result = karatsuba(x,y)\n",
    "        if result != expected:\n",
    "            return(\"failed\")\n",
    "    return('ok')\n",
    "            "
   ]
  },
  {
   "cell_type": "code",
   "execution_count": 21,
   "metadata": {},
   "outputs": [
    {
     "data": {
      "text/plain": [
       "'ok'"
      ]
     },
     "execution_count": 21,
     "metadata": {},
     "output_type": "execute_result"
    }
   ],
   "source": [
    "test()\n"
   ]
  },
  {
   "cell_type": "code",
   "execution_count": 24,
   "metadata": {
    "collapsed": true
   },
   "outputs": [],
   "source": [
    "def mergeSort(A):\n",
    "   # base case if the inout array is one or zero just return\n",
    "    if len(A) > 1:\n",
    "        # splitting input array \n",
    "        print('splitting ', A)\n",
    "        mid = len(A)//2\n",
    "        left = A[:mid]\n",
    "        right = A[mid:]\n",
    "        #recrusive calls to mergeSort for left and right sub arrays\n",
    "        mergeSort(left)\n",
    "        mergeSort(right)\n",
    "        # initializes pointers for left (i) right (j) and output array (k)\n",
    "# initialize operations\n",
    "        i = j = k = 0\n",
    "        # Traverse and merges the sorted arrays\n",
    "        while i < len(left) and j < len(right):\n",
    "# if left < right comparison operation\n",
    "            if left[i] < right[j]:\n",
    "# if left < right Assignment operations\n",
    "                A[k] = left[i]\n",
    "                i = i+1\n",
    "            else:\n",
    "# if right <= left assignment\n",
    "                A[k] = right[j]\n",
    "                j= j+1\n",
    "            k = k +1\n",
    "        while i < len(left):\n",
    "# Assignment operations\n",
    "            A[k] = left[i]\n",
    "            i=i +1\n",
    "            k=k+1\n",
    "        while j < len(right):\n",
    "# Assignment oepration\n",
    "            A[k] = right[j]\n",
    "            j=j+1\n",
    "            k=k+1\n",
    "    print('merging ', A)\n",
    "    return A"
   ]
  },
  {
   "cell_type": "code",
   "execution_count": 25,
   "metadata": {},
   "outputs": [
    {
     "name": "stdout",
     "output_type": "stream",
     "text": [
      "splitting  [356, 97, 846, 215]\n",
      "splitting  [356, 97]\n",
      "merging  [356]\n",
      "merging  [97]\n",
      "merging  [97, 356]\n",
      "splitting  [846, 215]\n",
      "merging  [846]\n",
      "merging  [215]\n",
      "merging  [215, 846]\n",
      "merging  [97, 215, 356, 846]\n"
     ]
    },
    {
     "data": {
      "text/plain": [
       "[97, 215, 356, 846]"
      ]
     },
     "execution_count": 25,
     "metadata": {},
     "output_type": "execute_result"
    }
   ],
   "source": [
    "mergeSort([356,97,846,215])"
   ]
  },
  {
   "cell_type": "code",
   "execution_count": 26,
   "metadata": {
    "collapsed": true
   },
   "outputs": [],
   "source": [
    "import matplotlib.pyplot as plt\n",
    "import math"
   ]
  },
  {
   "cell_type": "code",
   "execution_count": 30,
   "metadata": {},
   "outputs": [
    {
     "data": {
      "image/png": "[encoded data removed]",
      "text/plain": [
       "<matplotlib.figure.Figure at 0x1156c4e48>"
      ]
     },
     "metadata": {},
     "output_type": "display_data"
    }
   ],
   "source": [
    "x= list(range(1,100))\n",
    "l =[]; l2=[]; a=1\n",
    "plt.plot(x, [y*y for y in x])\n",
    "plt.plot(x, [(7*y)* math.log(y,2) for y in x])\n",
    "plt.plot(x,[(6 * y)* math.log(y,2) for y in x])\n",
    "plt.show()"
   ]
  },
  {
   "cell_type": "code",
   "execution_count": 29,
   "metadata": {},
   "outputs": [
    {
     "data": {
      "image/png": "[encoded data removed]",
      "text/plain": [
       "<matplotlib.figure.Figure at 0x1120efc88>"
      ]
     },
     "metadata": {},
     "output_type": "display_data"
    }
   ],
   "source": [
    "\n"
   ]
  },
  {
   "cell_type": "code",
   "execution_count": 4,
   "metadata": {
    "collapsed": true
   },
   "outputs": [],
   "source": [
    "def nest(n):\n",
    "    for i in range(n):\n",
    "        for j in range(n):\n",
    "            i+j\n",
    "            \n"
   ]
  },
  {
   "cell_type": "code",
   "execution_count": 5,
   "metadata": {
    "collapsed": true
   },
   "outputs": [],
   "source": [
    "import timeit\n",
    "def test2(n):\n",
    "    ls=[]\n",
    "    for n in range(n):\n",
    "        t=timeit.timeit(\"nest(\" + str(n) + \")\", setup=\"from __main__ import nest\", number=1)\n",
    "        ls.append(t)\n",
    "    return ls"
   ]
  },
  {
   "cell_type": "code",
   "execution_count": 7,
   "metadata": {},
   "outputs": [
    {
     "data": {
      "image/png": "[encoded data removed]",
      "text/plain": [
       "<matplotlib.figure.Figure at 0x10c105080>"
      ]
     },
     "metadata": {},
     "output_type": "display_data"
    }
   ],
   "source": [
    "import matplotlib.pyplot as plt\n",
    "n=1000\n",
    "plt.plot(test2(n))\n",
    "plt.plot([x*x/10000000 for x in range(n)])\n",
    "plt.show()"
   ]
  },
  {
   "cell_type": "code",
   "execution_count": null,
   "metadata": {
    "collapsed": true
   },
   "outputs": [],
   "source": []
  }
 ],
 "metadata": {
  "kernelspec": {
   "display_name": "Python [conda env:py3]",
   "language": "python",
   "name": "conda-env-py3-py"
  },
  "language_info": {
   "codemirror_mode": {
    "name": "ipython",
    "version": 3
   },
   "file_extension": ".py",
   "mimetype": "text/x-python",
   "name": "python",
   "nbconvert_exporter": "python",
   "pygments_lexer": "ipython3",
   "version": "3.5.3"
  }
 },
 "nbformat": 4,
 "nbformat_minor": 2
}
