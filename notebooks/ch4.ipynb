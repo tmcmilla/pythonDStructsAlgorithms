{
 "cells": [
  {
   "cell_type": "code",
   "execution_count": 1,
   "metadata": {
    "collapsed": true
   },
   "outputs": [],
   "source": [
    "s = set()"
   ]
  },
  {
   "cell_type": "code",
   "execution_count": 1,
   "metadata": {
    "collapsed": true
   },
   "outputs": [],
   "source": [
    "a= \"eggs\"\n",
    "b=\"ham\"\n",
    "c=\"spam\""
   ]
  },
  {
   "cell_type": "code",
   "execution_count": 3,
   "metadata": {
    "collapsed": true
   },
   "outputs": [],
   "source": [
    "class Node:\n",
    "    def __init__(self, data=None):\n",
    "        self.data=data\n",
    "        self.next=None\n",
    "    def __str__(self):\n",
    "        return str(data)\n",
    "        "
   ]
  },
  {
   "cell_type": "code",
   "execution_count": 4,
   "metadata": {
    "collapsed": true
   },
   "outputs": [],
   "source": [
    "n1 = Node('eggs')"
   ]
  },
  {
   "cell_type": "code",
   "execution_count": 5,
   "metadata": {
    "collapsed": true
   },
   "outputs": [],
   "source": [
    "n2 = Node('ham')"
   ]
  },
  {
   "cell_type": "code",
   "execution_count": 6,
   "metadata": {
    "collapsed": true
   },
   "outputs": [],
   "source": [
    "n3 = Node('spam')"
   ]
  },
  {
   "cell_type": "code",
   "execution_count": 7,
   "metadata": {
    "collapsed": true
   },
   "outputs": [],
   "source": [
    "n1.next = n2\n"
   ]
  },
  {
   "cell_type": "code",
   "execution_count": 8,
   "metadata": {
    "collapsed": true
   },
   "outputs": [],
   "source": [
    "n2.next = n3"
   ]
  },
  {
   "cell_type": "code",
   "execution_count": 9,
   "metadata": {},
   "outputs": [
    {
     "name": "stdout",
     "output_type": "stream",
     "text": [
      "eggs\n",
      "ham\n",
      "spam\n"
     ]
    }
   ],
   "source": [
    "current = n1\n",
    "while current:\n",
    "    print(current.data)\n",
    "    current = current.next"
   ]
  },
  {
   "cell_type": "code",
   "execution_count": 10,
   "metadata": {
    "collapsed": true
   },
   "outputs": [],
   "source": [
    "class SinglyLinkedList:\n",
    "    def __init__(self):\n",
    "        self.tail = None\n",
    "    def append(self, data):\n",
    "        # Encapculate the data in a Node\n",
    "        node = Node(data)\n",
    "        \n",
    "        if self.tail == None:\n",
    "            self.tail = node\n",
    "        else:\n",
    "            current = self.tail\n",
    "            while current.next:\n",
    "                current = current.next\n",
    "            current.next = node"
   ]
  },
  {
   "cell_type": "code",
   "execution_count": 11,
   "metadata": {
    "collapsed": true
   },
   "outputs": [],
   "source": [
    "words = SinglyLinkedList()\n",
    "words.append('egg')"
   ]
  },
  {
   "cell_type": "code",
   "execution_count": 12,
   "metadata": {
    "collapsed": true
   },
   "outputs": [],
   "source": [
    "words.append('ham')"
   ]
  },
  {
   "cell_type": "code",
   "execution_count": 13,
   "metadata": {
    "collapsed": true
   },
   "outputs": [],
   "source": [
    "words.append('spam')"
   ]
  },
  {
   "cell_type": "code",
   "execution_count": 14,
   "metadata": {},
   "outputs": [
    {
     "name": "stdout",
     "output_type": "stream",
     "text": [
      "egg\n",
      "ham\n",
      "spam\n"
     ]
    }
   ],
   "source": [
    "current = words.tail\n",
    "while current:\n",
    "    print(current.data)\n",
    "    current = current.next"
   ]
  },
  {
   "cell_type": "code",
   "execution_count": 20,
   "metadata": {},
   "outputs": [],
   "source": [
    "class SinglyLinkedList:\n",
    "    def __init__(self):\n",
    "        self.tail = None\n",
    "        self.size = 0\n",
    "        \n",
    "    def append(self,data):\n",
    "        node = Node(data)\n",
    "        if self.head:\n",
    "            self.head.next = node\n",
    "            self.head = node\n",
    "        else:\n",
    "            self.tail = node\n",
    "            self.head = node\n",
    "        self.size += 1\n",
    "    def size(self):\n",
    "        count = 0\n",
    "        current = self.tail\n",
    "        while current:\n",
    "            count += 1\n",
    "            current = current.next\n",
    "        return count\n",
    "    def iter(self):\n",
    "        current = self.tail\n",
    "        while current:\n",
    "            val = current.data\n",
    "            current = current.next\n",
    "            yield val\n",
    "    def delete(self,data):\n",
    "        current = self.tail\n",
    "        while current:\n",
    "            if current.data == data:\n",
    "                if current == self.tail:\n",
    "                    self.tail = current.next\n",
    "                else:\n",
    "                    prev.next = current.next\n",
    "                self.size -= 1\n",
    "                return\n",
    "            prev = current\n",
    "            current = current.next\n",
    "            \n",
    "    def search(self,data):\n",
    "        for node in self.iter():\n",
    "            if data == node:\n",
    "                return True\n",
    "        return False\n",
    "    \n",
    "    def clear(self):\n",
    "        \"\"\" Clear the enire list.\"\"\"\n",
    "        self.tail = None\n",
    "        self.head = None\n",
    "        "
   ]
  },
  {
   "cell_type": "code",
   "execution_count": null,
   "metadata": {
    "collapsed": true
   },
   "outputs": [],
   "source": [
    "class Node(object):\n",
    "    def __init__(self, data=None,next=None, prev=None):\n",
    "        self.data = data\n",
    "        self.next = next\n",
    "        self.prev = prev\n",
    "    \n",
    "    def append(self, data):\n",
    "        \"\"\" Append an item to the list. \"\"\"\n",
    "        new_node = Node(data, None,None)\n",
    "        if self.head is None:\n",
    "            self.head = new_node\n",
    "            self.tail = self.head\n",
    "        else:\n",
    "            new_node.prev = self.tail\n",
    "            self.tail.next = new_node\n",
    "            self.tail = new_node\n",
    "            \n",
    "        self.count += 1\n",
    "    \n",
    "    def delete(self, data):\n",
    "        current = self.head\n",
    "        node_deleted = False\n",
    "        \n",
    "        if current is None:\n",
    "            node_deleted = False\n",
    "        elif current.data == data:\n",
    "            self.head = current.next\n",
    "            self.head.prev = None\n",
    "            node_deleted = True\n",
    "        elif self.tail.data == data:\n",
    "            self.tail = self.tail.prev\n",
    "            self.tail.next = None\n",
    "            node_deleted = True\n",
    "        else\n",
    "            while current:\n",
    "                if current.data == data:\n",
    "                    current.prev.next = current.next\n",
    "                    current.next.prev = current.prev\n",
    "                    node_deleted = True\n",
    "                current = current.next\n",
    "                \n",
    "        if node_deleted:\n",
    "            self.count -= 1\n",
    "    \n",
    "    def contain(self, data):\n",
    "        for node_data in self.iter():\n",
    "            if data == node_data:\n",
    "                return True\n",
    "            return False\n",
    "        \n",
    "            "
   ]
  }
 ],
 "metadata": {
  "kernelspec": {
   "display_name": "Python [conda env:py3]",
   "language": "python",
   "name": "conda-env-py3-py"
  },
  "language_info": {
   "codemirror_mode": {
    "name": "ipython",
    "version": 3
   },
   "file_extension": ".py",
   "mimetype": "text/x-python",
   "name": "python",
   "nbconvert_exporter": "python",
   "pygments_lexer": "ipython3",
   "version": "3.5.3"
  }
 },
 "nbformat": 4,
 "nbformat_minor": 2
}
