{
 "cells": [
  {
   "cell_type": "code",
   "execution_count": 1,
   "metadata": {
    "collapsed": true
   },
   "outputs": [],
   "source": [
    "class Node:\n",
    "    def __init__(self, data=None):\n",
    "        self.data = data\n",
    "        self.next = None"
   ]
  },
  {
   "cell_type": "code",
   "execution_count": 4,
   "metadata": {},
   "outputs": [],
   "source": [
    "class Stack:\n",
    "    def __init__(self):\n",
    "        self.top = None\n",
    "        self.size = 0\n",
    "        \n",
    "    def push(self, data):\n",
    "        node = Node(data)\n",
    "        if self.top:\n",
    "            node.next = self.top\n",
    "            self.top = node\n",
    "        else:\n",
    "            self.top = node\n",
    "        self.size += 1\n",
    "    \n",
    "    def pop(self):\n",
    "        if self.top:\n",
    "            data = self.top.data\n",
    "            self.size -= 1\n",
    "            if self.top.next:\n",
    "                self.top = self.top.next\n",
    "            else:\n",
    "                self.top = None\n",
    "            return data\n",
    "        else:\n",
    "            return None\n",
    "    \n",
    "    def peek(self):\n",
    "        if self.top:\n",
    "            return self.top.data\n",
    "        else:\n",
    "            return None\n",
    "        \n",
    "    "
   ]
  },
  {
   "cell_type": "code",
   "execution_count": 24,
   "metadata": {
    "collapsed": true
   },
   "outputs": [],
   "source": [
    "def check_brackets(statement):\n",
    "    stack = Stack()   \n",
    "    for ch in statement:\n",
    "        if ch in ('{',  '[', '('):\n",
    "            stack.push(ch)\n",
    "        if ch in ('}', ']', ')'):\n",
    "            last = stack.pop()\n",
    "        if last is '{' and ch is '}':\n",
    "            continue\n",
    "        elif last is '[' and ch is ']':\n",
    "            continue\n",
    "        elif last is '(' and ch is ')':\n",
    "            continue\n",
    "        else:\n",
    "            return False\n",
    "    if stack.size > 0:\n",
    "        return False\n",
    "    else:\n",
    "        return True"
   ]
  },
  {
   "cell_type": "code",
   "execution_count": 26,
   "metadata": {},
   "outputs": [
    {
     "name": "stdout",
     "output_type": "stream",
     "text": [
      "{(foo)(bar)}[hello](((this)is)a)test: False\n",
      "{(foo)(bar)}[hello](((this)is)atest: False\n",
      "{(foo)(bar)}[hello](((this)is)a)test)): False\n"
     ]
    }
   ],
   "source": [
    "sl = ( \n",
    "   \"{(foo)(bar)}[hello](((this)is)a)test\", \n",
    "   \"{(foo)(bar)}[hello](((this)is)atest\", \n",
    "   \"{(foo)(bar)}[hello](((this)is)a)test))\" \n",
    ") \n",
    "\n",
    "for s in sl: \n",
    "   m = check_brackets(s) \n",
    "   print(\"{}: {}\".format(s, m)) "
   ]
  },
  {
   "cell_type": "code",
   "execution_count": null,
   "metadata": {
    "collapsed": true
   },
   "outputs": [],
   "source": []
  }
 ],
 "metadata": {
  "kernelspec": {
   "display_name": "Python [conda env:py3]",
   "language": "python",
   "name": "conda-env-py3-py"
  },
  "language_info": {
   "codemirror_mode": {
    "name": "ipython",
    "version": 3
   },
   "file_extension": ".py",
   "mimetype": "text/x-python",
   "name": "python",
   "nbconvert_exporter": "python",
   "pygments_lexer": "ipython3",
   "version": "3.5.4"
  }
 },
 "nbformat": 4,
 "nbformat_minor": 2
}
