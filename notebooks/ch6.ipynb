{
 "cells": [
  {
   "cell_type": "code",
   "execution_count": 1,
   "metadata": {
    "collapsed": true
   },
   "outputs": [],
   "source": [
    "class Node:\n",
    "    def __init__(self, data):\n",
    "        self.data = data\n",
    "        self.right_child = None\n",
    "        self.left_child = None"
   ]
  },
  {
   "cell_type": "code",
   "execution_count": 2,
   "metadata": {
    "collapsed": true
   },
   "outputs": [],
   "source": [
    "n1 = Node(\"root node\")\n",
    "n2 = Node(\"left child node\")\n",
    "n3 = Node(\"right child node\")\n",
    "n4 = Node(\"left grandchild node\")"
   ]
  },
  {
   "cell_type": "code",
   "execution_count": 3,
   "metadata": {
    "collapsed": true
   },
   "outputs": [],
   "source": [
    "n1.left_child = n2\n",
    "n1.right_child = n3\n",
    "n2.left_child = n4"
   ]
  },
  {
   "cell_type": "code",
   "execution_count": 5,
   "metadata": {},
   "outputs": [
    {
     "name": "stdout",
     "output_type": "stream",
     "text": [
      "root node\n",
      "left child node\n",
      "left grandchild node\n"
     ]
    }
   ],
   "source": [
    "current =n1\n",
    "while current:\n",
    "    print(current.data)\n",
    "    current = current.left_child"
   ]
  },
  {
   "cell_type": "code",
   "execution_count": 14,
   "metadata": {},
   "outputs": [],
   "source": [
    "from collections import deque\n",
    "\n",
    "class Tree:\n",
    "    def __init__(self):\n",
    "        self.root_node = None\n",
    "    def find_min(self):\n",
    "        current = self.root_node\n",
    "        while current.left_child:\n",
    "            current = current.left_child\n",
    "            \n",
    "        return current\n",
    "    \n",
    "    def insert(self, data):\n",
    "        node = Node(data)\n",
    "        if self.root_node is None:\n",
    "            self.root_node = node\n",
    "        else:\n",
    "            current = self.root_node\n",
    "            parent = None\n",
    "            while True:\n",
    "                parent = current\n",
    "                if node.data < current.data:\n",
    "                    current = current.left_child\n",
    "                    if current is None:\n",
    "                        parent.left_child = node\n",
    "                        return\n",
    "                else:\n",
    "                    current = current.right_child\n",
    "                    if current is None:\n",
    "                        parent.right_child = node\n",
    "                        return\n",
    "                    \n",
    "    def get_node_with_parent(self, data):\n",
    "        parent = None\n",
    "        current = self.root_node\n",
    "        if current is None:\n",
    "            return (parent, None)\n",
    "        while True:\n",
    "            if current.data == data:\n",
    "                return (parent, current)\n",
    "            elif current.data > data:\n",
    "                parent = current\n",
    "                current = current.left_child\n",
    "            else:\n",
    "                parent = current\n",
    "                current = current.right_child\n",
    "                \n",
    "        return (parent, current)\n",
    "    \n",
    "    def remove(self, data):\n",
    "        parent, node = self.get_node_with_parent(data)\n",
    "        \n",
    "        if parent is None and node is None:\n",
    "            return false\n",
    "        \n",
    "        # Get children count\n",
    "        children_count = 0\n",
    "        \n",
    "        if node.left_child and node.right_child:\n",
    "            children_count = 2\n",
    "        elif (node.left_child is None) and (node.right_child is None):\n",
    "            children_count = 0\n",
    "        else:\n",
    "            children_count = 1\n",
    "        \n",
    "        if children_count == 0:\n",
    "            if parent:\n",
    "                if parent.right_child is node:\n",
    "                    parent.right_child = None\n",
    "                else:\n",
    "                    parent.left_child = None\n",
    "            else:\n",
    "                self.root_node = None\n",
    "        elif children_count == 1:\n",
    "            next_node = None\n",
    "            if node.left_child:\n",
    "                next_node = node.left_child\n",
    "            else:\n",
    "                next_node = node.right_child\n",
    "                \n",
    "            if parent:\n",
    "                if parent.left_child is node:\n",
    "                    parent.left_child = next_node\n",
    "                else:\n",
    "                    parent.right_child = next_node\n",
    "            else:\n",
    "                self.root_node = next_node\n",
    "        else:\n",
    "            parent_of_leftmost_node = node\n",
    "            leftmost_node = node.right_child\n",
    "            while leftmost_node.left_child:\n",
    "                parent_of_leftmost_node = leftmost_node\n",
    "                leftmost_node = leftmost_node.left_child\n",
    "            node.data = leftmost_node.data\n",
    "            \n",
    "            if parent_of_leftmost_node.left_child == leftmost_node:\n",
    "                parent_of_leftmost_node.left_child = leftmost_node.right_child\n",
    "            else:\n",
    "                parent_of_leftmost_node.right_child = leftmost_node.right_child\n",
    "                \n",
    "    \n",
    "    def search(self,data):\n",
    "        current = self.root_node\n",
    "        while True:\n",
    "            if current is None:\n",
    "                return None\n",
    "            elif current.data is data:\n",
    "                return data\n",
    "            elif current.data > data:\n",
    "                current = current.left_child\n",
    "            else:\n",
    "                current = current.right_child\n",
    "        \n",
    "    def inorder(self, root_node):\n",
    "        current = root_node\n",
    "        if current is None:\n",
    "            return\n",
    "        self.inorder(current.left_child)\n",
    "        print(current.data)\n",
    "        self.inorder(current.right_child)\n",
    "        \n",
    "    def preorder(self, root_node):\n",
    "        current = root_node\n",
    "        if current is None:\n",
    "            return\n",
    "        print(current.data)\n",
    "        self.preorder(current.left_child)\n",
    "        self.preorder(current.right_child)\n",
    "        \n",
    "    def postorder(self,root_node):\n",
    "        current = root_node\n",
    "        if current is None:\n",
    "            return\n",
    "        self.postorder(current.left_child)\n",
    "        self.postorder(current.right_child)\n",
    "        \n",
    "        print(current.data)\n",
    "        \n",
    "    def breadth_first_travseral(self):\n",
    "        list_of_nodes = []\n",
    "        traversal_queue = deque([self.root_node])\n",
    "        \n",
    "        while len(traversal_queue) > 0:\n",
    "            node = traversal_queue.popleft()\n",
    "            list_of_nodes.append(node.data)\n",
    "            \n",
    "            if node.left_child:\n",
    "                traversal_queue.append(node.left_child)\n",
    "                \n",
    "            if node.right_child:\n",
    "                traversal_queue.append(node.right_child)\n",
    "                \n",
    "        return list_of_nodes\n",
    "    "
   ]
  },
  {
   "cell_type": "code",
   "execution_count": 15,
   "metadata": {},
   "outputs": [
    {
     "name": "stdout",
     "output_type": "stream",
     "text": [
      "1: 1\n",
      "2: 2\n",
      "3: None\n",
      "4: None\n",
      "5: 5\n",
      "6: None\n",
      "7: 7\n",
      "8: None\n",
      "9: 9\n"
     ]
    }
   ],
   "source": [
    "tree = Tree()\n",
    "tree.insert(5)\n",
    "tree.insert(2)\n",
    "tree.insert(7)\n",
    "tree.insert(9)\n",
    "tree.insert(1)\n",
    "\n",
    "for i in range(1,10):\n",
    "    found = tree.search(i)\n",
    "    print (\"{}: {}\".format(i, found))"
   ]
  },
  {
   "cell_type": "code",
   "execution_count": 16,
   "metadata": {
    "collapsed": true
   },
   "outputs": [],
   "source": [
    "class TreeNode:\n",
    "    def __init__(self, data=None):\n",
    "        self.data = data\n",
    "        self.right = None\n",
    "        self.left = None"
   ]
  },
  {
   "cell_type": "code",
   "execution_count": 20,
   "metadata": {},
   "outputs": [
    {
     "ename": "ImportError",
     "evalue": "No module named 'stack'",
     "output_type": "error",
     "traceback": [
      "\u001b[1;31m---------------------------------------------------------------------------\u001b[0m",
      "\u001b[1;31mImportError\u001b[0m                               Traceback (most recent call last)",
      "\u001b[1;32m<ipython-input-20-9311043136d1>\u001b[0m in \u001b[0;36m<module>\u001b[1;34m()\u001b[0m\n\u001b[1;32m----> 1\u001b[1;33m \u001b[1;32mfrom\u001b[0m \u001b[0mstack\u001b[0m \u001b[1;32mimport\u001b[0m \u001b[0mStack\u001b[0m\u001b[1;33m\u001b[0m\u001b[0m\n\u001b[0m\u001b[0;32m      2\u001b[0m \u001b[0mexpr\u001b[0m \u001b[1;33m=\u001b[0m \u001b[1;34m\"4 5 + 5 3 - *\"\u001b[0m\u001b[1;33m.\u001b[0m\u001b[0msplit\u001b[0m\u001b[1;33m(\u001b[0m\u001b[1;33m)\u001b[0m\u001b[1;33m\u001b[0m\u001b[0m\n\u001b[0;32m      3\u001b[0m \u001b[0mstack\u001b[0m \u001b[1;33m=\u001b[0m \u001b[0mstack\u001b[0m\u001b[1;33m(\u001b[0m\u001b[1;33m)\u001b[0m\u001b[1;33m\u001b[0m\u001b[0m\n",
      "\u001b[1;31mImportError\u001b[0m: No module named 'stack'"
     ]
    }
   ],
   "source": [
    "from stack import Stack\n",
    "expr = \"4 5 + 5 3 - *\".split()\n",
    "stack = stack()\n"
   ]
  },
  {
   "cell_type": "code",
   "execution_count": null,
   "metadata": {
    "collapsed": true
   },
   "outputs": [],
   "source": []
  }
 ],
 "metadata": {
  "kernelspec": {
   "display_name": "Python [conda env:py3]",
   "language": "python",
   "name": "conda-env-py3-py"
  }
 },
 "nbformat": 4,
 "nbformat_minor": 2
}
