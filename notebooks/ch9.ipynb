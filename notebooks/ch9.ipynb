{
 "cells": [
  {
   "cell_type": "code",
   "execution_count": 1,
   "metadata": {
    "collapsed": true
   },
   "outputs": [],
   "source": [
    "def search(unordered_list, term):\n",
    "    unordered_list_size = len(unordered_list)\n",
    "    for i in range(unordered_list_size):\n",
    "        if term == unordered_list[i]:\n",
    "            return i\n",
    "    return None\n",
    "    "
   ]
  },
  {
   "cell_type": "code",
   "execution_count": 2,
   "metadata": {
    "collapsed": true
   },
   "outputs": [],
   "source": [
    "def search(ordered_list, term):\n",
    "    ordered_list_size = len(ordered_list)\n",
    "    for i in range(ordered_list_size):\n",
    "        if term == ordered_list[i]:\n",
    "            return i\n",
    "        elif ordered_list[i] > term:\n",
    "            return None\n",
    "    return None"
   ]
  },
  {
   "cell_type": "code",
   "execution_count": 12,
   "metadata": {
    "collapsed": true
   },
   "outputs": [],
   "source": [
    "def binary_search(ordered_list, first_element_index, last_element_index, term):\n",
    "    \n",
    "    if (last_element_index < first_element_index):\n",
    "        return None\n",
    "    else:\n",
    "        mid_point = first_element_index + ((last_element_index - first_element_index) // 2)        \n",
    "        if ordered_list[mid_point] > term:\n",
    "            return binary_search(ordered_list, first_element_index, mid_point-1, term)\n",
    "        elif ordered_list[mid_point] < term:\n",
    "            return binary_search(ordered_list, mid_point+1, last_element_index, term)\n",
    "        else:\n",
    "            return mid_point\n",
    "            "
   ]
  },
  {
   "cell_type": "code",
   "execution_count": 14,
   "metadata": {},
   "outputs": [
    {
     "name": "stdout",
     "output_type": "stream",
     "text": [
      "3\n"
     ]
    }
   ],
   "source": [
    "store = [2, 4, 5, 12, 43, 54, 60, 77]\n",
    "print(binary_search(store, 0, 7, 12))"
   ]
  },
  {
   "cell_type": "code",
   "execution_count": 1,
   "metadata": {
    "collapsed": true
   },
   "outputs": [],
   "source": [
    "def nearest_mid(input_list, lower_bound_index, upper_bound_index, search_value):\n",
    "    return lower_bound_index + (( upper_bound_index - lower_bound_index) / (input_list[upper_bound_index] - input_list[lower_bound_index])) * (search_value - input_list[lower_bound_index])"
   ]
  },
  {
   "cell_type": "code",
   "execution_count": null,
   "metadata": {
    "collapsed": true
   },
   "outputs": [],
   "source": [
    "def interpolation_search(ordered_list, term):\n",
    "    size_of_list = len(ordered_list) - 1\n",
    "    \n",
    "    index_of_first_element = 0\n",
    "    index_of_last_element = size_of_list\n",
    "    \n",
    "    while index_of_first_element <= index_of_last_element:\n",
    "        mid_point = nearest_mid(ordered_list, index_of_first_element, index_of_last_element, term)\n",
    "        \n",
    "        if mid_point > index_of_last_element or mid_point < index_of_first_element:\n",
    "            return None\n",
    "        \n",
    "        if ordered_list[mid_point] == term:\n",
    "            return mid_point\n",
    "        \n",
    "        if term > ordered_list[mid_point]:\n",
    "            index_of_first_element = mid_point + 1\n",
    "        else:\n",
    "            index_of_last_element = mid_point - 1\n",
    "            \n",
    "    if index_of_first_element > index_of_last_element:\n",
    "        return None"
   ]
  }
 ],
 "metadata": {
  "kernelspec": {
   "display_name": "Python [conda env:py3]",
   "language": "python",
   "name": "conda-env-py3-py"
  },
  "language_info": {
   "codemirror_mode": {
    "name": "ipython",
    "version": 3
   },
   "file_extension": ".py",
   "mimetype": "text/x-python",
   "name": "python",
   "nbconvert_exporter": "python",
   "pygments_lexer": "ipython3",
   "version": "3.5.4"
  }
 },
 "nbformat": 4,
 "nbformat_minor": 2
}
